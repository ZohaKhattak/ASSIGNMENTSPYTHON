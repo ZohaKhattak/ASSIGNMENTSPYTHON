{
 "cells": [
  {
   "cell_type": "code",
   "execution_count": 2,
   "metadata": {},
   "outputs": [
    {
     "name": "stdout",
     "output_type": "stream",
     "text": [
      "\t\t\tMARKSHEET\n",
      "Enter marks of the Course1: 50\n",
      "Enter marks of the Course2: 89\n",
      "Enter marks of the Course3: 78\n",
      "Enter marks of the Course4: 95\n",
      "Enter marks of the Course5: 57\n",
      "Grade: C\n"
     ]
    }
   ],
   "source": [
    "print(\"\\t\\t\\tMARKSHEET\")\n",
    "course1=int(input(\"Enter marks of the Course1: \"))\n",
    "course2=int(input(\"Enter marks of the Course2: \"))\n",
    "course3=int(input(\"Enter marks of the Course3: \"))\n",
    "course4=int(input(\"Enter marks of the Course4: \"))\n",
    "course5=int(input(\"Enter marks of the Course5: \"))\n",
    "Totalmarks= course1+course2+course3+course4+course5\n",
    "avg=Totalmarks/5\n",
    "if(avg>=90):\n",
    "    print(\"Grade: A\")\n",
    "elif(avg>=80 and avg<90):\n",
    "    print(\"Grade: B\")\n",
    "elif(avg>=70 and avg<80):\n",
    "    print(\"Grade: C\")\n",
    "elif(avg>=60 and avg<70):\n",
    "    print(\"Grade: D\")\n",
    "else:\n",
    "    print(\"Grade: F\")"
   ]
  },
  {
   "cell_type": "code",
   "execution_count": 1,
   "metadata": {},
   "outputs": [
    {
     "name": "stdout",
     "output_type": "stream",
     "text": [
      "Enter Number: 4\n",
      "Even Number\n"
     ]
    }
   ],
   "source": [
    "num=int(input('Enter Number: '))\n",
    "\n",
    "if num%2==0:\n",
    "    print(\"Even Number\")\n",
    "else:\n",
    "    print(\"Odd Number\")"
   ]
  },
  {
   "cell_type": "code",
   "execution_count": 2,
   "metadata": {},
   "outputs": [
    {
     "name": "stdout",
     "output_type": "stream",
     "text": [
      "length 8\n"
     ]
    }
   ],
   "source": [
    "l=[1,2,3,4,5,6,7,8]\n",
    "print('length',len(l))"
   ]
  },
  {
   "cell_type": "code",
   "execution_count": 3,
   "metadata": {},
   "outputs": [
    {
     "name": "stdout",
     "output_type": "stream",
     "text": [
      "142\n"
     ]
    }
   ],
   "source": [
    "l=[1,2,3,4,5,6,56,65,'a']\n",
    "sum=0\n",
    "n=len(l)\n",
    "for i in range(n):\n",
    "    if type(l[i])==int:\n",
    "        sum+=l[i]\n",
    "\n",
    "print(sum)"
   ]
  },
  {
   "cell_type": "code",
   "execution_count": 4,
   "metadata": {},
   "outputs": [
    {
     "name": "stdout",
     "output_type": "stream",
     "text": [
      "Largest Number is:  87\n"
     ]
    }
   ],
   "source": [
    "L=[10,20,30,56,45,87,78]\n",
    "L.sort()\n",
    "print(\"Largest Number is: \",L[-1])"
   ]
  },
  {
   "cell_type": "code",
   "execution_count": 5,
   "metadata": {},
   "outputs": [
    {
     "name": "stdout",
     "output_type": "stream",
     "text": [
      "1\n",
      "1\n",
      "2\n",
      "3\n"
     ]
    }
   ],
   "source": [
    "a = [1, 1, 2, 3, 5, 8, 13, 21, 34, 55, 89]\n",
    "for i in a:\n",
    "    if i < 5:\n",
    "        print(i)"
   ]
  },
  {
   "cell_type": "code",
   "execution_count": null,
   "metadata": {},
   "outputs": [],
   "source": []
  }
 ],
 "metadata": {
  "kernelspec": {
   "display_name": "Python 3",
   "language": "python",
   "name": "python3"
  },
  "language_info": {
   "codemirror_mode": {
    "name": "ipython",
    "version": 3
   },
   "file_extension": ".py",
   "mimetype": "text/x-python",
   "name": "python",
   "nbconvert_exporter": "python",
   "pygments_lexer": "ipython3",
   "version": "3.7.4"
  }
 },
 "nbformat": 4,
 "nbformat_minor": 2
}
