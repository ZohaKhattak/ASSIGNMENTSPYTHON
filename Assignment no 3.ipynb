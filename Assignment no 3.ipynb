{
 "cells": [
  {
   "cell_type": "code",
   "execution_count": 8,
   "metadata": {},
   "outputs": [
    {
     "name": "stdout",
     "output_type": "stream",
     "text": [
      "Select operation.\n",
      "1.Add\n",
      "2.Subtract\n",
      "3.Multiply\n",
      "4.Divide\n",
      "5.Power\n",
      "Enter choice(1/2/3/4/5): 5\n",
      "Enter first number: 2\n",
      "Enter second number: 3\n",
      "2.0 ^ 3.0 = \n",
      "8.0\n"
     ]
    }
   ],
   "source": [
    "\n",
    "print(\"Select operation.\")\n",
    "print(\"1.Add\")\n",
    "print(\"2.Subtract\")\n",
    "print(\"3.Multiply\")\n",
    "print(\"4.Divide\")\n",
    "print(\"5.Power\")\n",
    "operation = input(\"Enter choice(1/2/3/4/5): \")\n",
    "num1 = float(input(\"Enter first number: \"))\n",
    "num2 = float(input(\"Enter second number: \"))\n",
    "if operation == '1':\n",
    "    print('{} + {} = '.format(num1, num2))\n",
    "    print(num1 + num2)\n",
    "elif operation == '2':\n",
    "    print('{} - {} = '.format(num1, num2))\n",
    "    print(num1 - num2)\n",
    "elif operation == '3':\n",
    "    print('{} * {} = '.format(num1, num2))\n",
    "    print(num1 * num2)\n",
    "elif operation == '4':\n",
    "    print('{} / {} = '.format(num1, num2))\n",
    "    print(num1 / num2)\n",
    "elif operation == '5':\n",
    "    print('{} ^ {} = '.format(num1, num2))\n",
    "    print(num1 ** num2)\n",
    "\n",
    "else:   \n",
    "    print(\"Invalid input\")"
   ]
  },
  {
   "cell_type": "code",
   "execution_count": 10,
   "metadata": {},
   "outputs": [
    {
     "name": "stdout",
     "output_type": "stream",
     "text": [
      "Element Exists\n"
     ]
    }
   ],
   "source": [
    "list = [ 1, 6, 3, 5, 3, 4 ]\n",
    "for i in list: \n",
    "    if(i == 4) : \n",
    "        print (\"Element Exists\") "
   ]
  },
  {
   "cell_type": "code",
   "execution_count": 13,
   "metadata": {},
   "outputs": [
    {
     "name": "stdout",
     "output_type": "stream",
     "text": [
      "{1: 'Ali', 7: 'Ayesha'}\n",
      "{1: 'Ali', 7: 'Ayesha', 6: 'Fatima'}\n"
     ]
    }
   ],
   "source": [
    "Rollno = {1:\"Ali\", 7:\"Ayesha\"}\n",
    "print(Rollno)\n",
    "Rollno.update({6:\"Fatima\"})\n",
    "print(Rollno)"
   ]
  },
  {
   "cell_type": "code",
   "execution_count": 16,
   "metadata": {},
   "outputs": [
    {
     "name": "stdout",
     "output_type": "stream",
     "text": [
      "1500\n"
     ]
    }
   ],
   "source": [
    "list={1:300,2:900,3:300}\n",
    "sum = 0\n",
    "for i in list: \n",
    "        sum = sum + list[i] \n",
    "print(sum)"
   ]
  },
  {
   "cell_type": "code",
   "execution_count": 21,
   "metadata": {},
   "outputs": [
    {
     "name": "stdout",
     "output_type": "stream",
     "text": [
      "[20, 30, -20, 60]\n"
     ]
    }
   ],
   "source": [
    "list = [10, 20, 30, 20, 20, 30, 40,  \n",
    "         50, -20, 60, 60, -20, -20] \n",
    "_size = len(list) \n",
    "repeated = [] \n",
    "for i in range(_size): \n",
    "    k = i + 1\n",
    "    for j in range(k, _size): \n",
    "        if list[i] == list[j] and list[i] not in repeated: \n",
    "            repeated.append(list[i])\n",
    "print (repeated)\n",
    "      "
   ]
  },
  {
   "cell_type": "code",
   "execution_count": 22,
   "metadata": {},
   "outputs": [
    {
     "name": "stdout",
     "output_type": "stream",
     "text": [
      "Enter key:3\n",
      "Key is present in the dictionary\n"
     ]
    }
   ],
   "source": [
    "d = {1: 10, 2: 20, 3: 30, 4: 40, 5: 50, 6: 60}\n",
    "key=int(input(\"Enter key:\"))\n",
    "if key in d:\n",
    "      print('Key is present in the dictionary')\n",
    "else:\n",
    "      print('Key is not present in the dictionary')\n"
   ]
  },
  {
   "cell_type": "code",
   "execution_count": null,
   "metadata": {},
   "outputs": [],
   "source": []
  }
 ],
 "metadata": {
  "kernelspec": {
   "display_name": "Python 3",
   "language": "python",
   "name": "python3"
  },
  "language_info": {
   "codemirror_mode": {
    "name": "ipython",
    "version": 3
   },
   "file_extension": ".py",
   "mimetype": "text/x-python",
   "name": "python",
   "nbconvert_exporter": "python",
   "pygments_lexer": "ipython3",
   "version": "3.7.4"
  }
 },
 "nbformat": 4,
 "nbformat_minor": 2
}
